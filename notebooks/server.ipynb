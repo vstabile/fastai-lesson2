{
 "cells": [
  {
   "cell_type": "markdown",
   "metadata": {},
   "source": [
    "# Gradio Server\n",
    "\n",
    "- This is where we will deploy and serve our trained classifier model from outr notebook"
   ]
  },
  {
   "cell_type": "markdown",
   "metadata": {},
   "source": [
    "Imports:"
   ]
  },
  {
   "cell_type": "code",
   "execution_count": 1,
   "metadata": {},
   "outputs": [],
   "source": [
    "from fastai.vision.all import *"
   ]
  },
  {
   "cell_type": "markdown",
   "metadata": {},
   "source": [
    "Load in our trained model:"
   ]
  },
  {
   "cell_type": "code",
   "execution_count": 2,
   "metadata": {},
   "outputs": [
    {
     "name": "stderr",
     "output_type": "stream",
     "text": [
      "/Users/victor/Projects/fastai-lesson2/.env/lib/python3.12/site-packages/fastai/learner.py:455: UserWarning: load_learner` uses Python's insecure pickle module, which can execute malicious arbitrary code when loading. Only load files you trust.\n",
      "If you only need to load model weights and optimizer state, use the safe `Learner.load` instead.\n",
      "  warn(\"load_learner` uses Python's insecure pickle module, which can execute malicious arbitrary code when loading. Only load files you trust.\\nIf you only need to load model weights and optimizer state, use the safe `Learner.load` instead.\")\n"
     ]
    }
   ],
   "source": [
    "learn = load_learner('model.pkl')"
   ]
  },
  {
   "cell_type": "markdown",
   "metadata": {},
   "source": [
    "Define a prediction function:"
   ]
  },
  {
   "cell_type": "code",
   "execution_count": 3,
   "metadata": {},
   "outputs": [],
   "source": [
    "labels = learn.dls.vocab\n",
    "def predict(img):\n",
    "    img = PILImage.create(img)\n",
    "    pred,pred_idx,probs = learn.predict(img)\n",
    "    return {labels[i]: float(probs[i]) for i in range(len(labels))}"
   ]
  },
  {
   "cell_type": "markdown",
   "metadata": {},
   "source": [
    "Create a Gradio interface"
   ]
  },
  {
   "cell_type": "code",
   "execution_count": 4,
   "metadata": {},
   "outputs": [
    {
     "name": "stdout",
     "output_type": "stream",
     "text": [
      "Note: you may need to restart the kernel to use updated packages.\n"
     ]
    },
    {
     "name": "stderr",
     "output_type": "stream",
     "text": [
      "/Users/victor/Projects/fastai-lesson2/.env/lib/python3.12/site-packages/tqdm/auto.py:21: TqdmWarning: IProgress not found. Please update jupyter and ipywidgets. See https://ipywidgets.readthedocs.io/en/stable/user_install.html\n",
      "  from .autonotebook import tqdm as notebook_tqdm\n",
      "/var/folders/vs/_tftkh190q9bv_j__tdtthtr0000gn/T/ipykernel_60096/1892712313.py:3: GradioDeprecationWarning: Usage of gradio.inputs is deprecated, and will not be supported in the future, please import your component from gradio.components\n",
      "  gr.Interface(fn=predict, inputs=gr.inputs.Image(shape=(512, 512)), outputs=gr.outputs.Label(num_top_classes=3)).launch(share=True)\n",
      "/var/folders/vs/_tftkh190q9bv_j__tdtthtr0000gn/T/ipykernel_60096/1892712313.py:3: GradioDeprecationWarning: `optional` parameter is deprecated, and it has no effect\n",
      "  gr.Interface(fn=predict, inputs=gr.inputs.Image(shape=(512, 512)), outputs=gr.outputs.Label(num_top_classes=3)).launch(share=True)\n",
      "/var/folders/vs/_tftkh190q9bv_j__tdtthtr0000gn/T/ipykernel_60096/1892712313.py:3: GradioDeprecationWarning: Usage of gradio.outputs is deprecated, and will not be supported in the future, please import your components from gradio.components\n",
      "  gr.Interface(fn=predict, inputs=gr.inputs.Image(shape=(512, 512)), outputs=gr.outputs.Label(num_top_classes=3)).launch(share=True)\n",
      "/var/folders/vs/_tftkh190q9bv_j__tdtthtr0000gn/T/ipykernel_60096/1892712313.py:3: GradioUnusedKwargWarning: You have unused kwarg parameters in Label, please remove them: {'type': 'auto'}\n",
      "  gr.Interface(fn=predict, inputs=gr.inputs.Image(shape=(512, 512)), outputs=gr.outputs.Label(num_top_classes=3)).launch(share=True)\n"
     ]
    },
    {
     "name": "stdout",
     "output_type": "stream",
     "text": [
      "Running on local URL:  http://127.0.0.1:7860\n",
      "IMPORTANT: You are using gradio version 3.50.0, however version 4.44.1 is available, please upgrade.\n",
      "--------\n",
      "Running on public URL: https://641ecc998f9d533423.gradio.live\n",
      "\n",
      "This share link expires in 72 hours. For free permanent hosting and GPU upgrades, run `gradio deploy` from Terminal to deploy to Spaces (https://huggingface.co/spaces)\n"
     ]
    },
    {
     "data": {
      "text/html": [
       "<div><iframe src=\"https://641ecc998f9d533423.gradio.live\" width=\"100%\" height=\"500\" allow=\"autoplay; camera; microphone; clipboard-read; clipboard-write;\" frameborder=\"0\" allowfullscreen></iframe></div>"
      ],
      "text/plain": [
       "<IPython.core.display.HTML object>"
      ]
     },
     "metadata": {},
     "output_type": "display_data"
    },
    {
     "data": {
      "text/plain": []
     },
     "execution_count": 4,
     "metadata": {},
     "output_type": "execute_result"
    },
    {
     "name": "stderr",
     "output_type": "stream",
     "text": [
      "Traceback (most recent call last):\n",
      "  File \"/Users/victor/Projects/fastai-lesson2/.env/lib/python3.12/site-packages/gradio/routes.py\", line 534, in predict\n",
      "    output = await route_utils.call_process_api(\n",
      "             ^^^^^^^^^^^^^^^^^^^^^^^^^^^^^^^^^^^\n",
      "  File \"/Users/victor/Projects/fastai-lesson2/.env/lib/python3.12/site-packages/gradio/route_utils.py\", line 226, in call_process_api\n",
      "    output = await app.get_blocks().process_api(\n",
      "             ^^^^^^^^^^^^^^^^^^^^^^^^^^^^^^^^^^^\n",
      "  File \"/Users/victor/Projects/fastai-lesson2/.env/lib/python3.12/site-packages/gradio/blocks.py\", line 1548, in process_api\n",
      "    inputs = self.preprocess_data(fn_index, inputs, state)\n",
      "             ^^^^^^^^^^^^^^^^^^^^^^^^^^^^^^^^^^^^^^^^^^^^^\n",
      "  File \"/Users/victor/Projects/fastai-lesson2/.env/lib/python3.12/site-packages/gradio/blocks.py\", line 1329, in preprocess_data\n",
      "    processed_input.append(block.preprocess(inputs[i]))\n",
      "                           ^^^^^^^^^^^^^^^^^^^^^^^^^^^\n",
      "  File \"/Users/victor/Projects/fastai-lesson2/.env/lib/python3.12/site-packages/gradio/components/image.py\", line 256, in preprocess\n",
      "    assert isinstance(x, str)\n",
      "           ^^^^^^^^^^^^^^^^^^\n",
      "AssertionError\n",
      "Traceback (most recent call last):\n",
      "  File \"/Users/victor/Projects/fastai-lesson2/.env/lib/python3.12/site-packages/gradio/routes.py\", line 534, in predict\n",
      "    output = await route_utils.call_process_api(\n",
      "             ^^^^^^^^^^^^^^^^^^^^^^^^^^^^^^^^^^^\n",
      "  File \"/Users/victor/Projects/fastai-lesson2/.env/lib/python3.12/site-packages/gradio/route_utils.py\", line 226, in call_process_api\n",
      "    output = await app.get_blocks().process_api(\n",
      "             ^^^^^^^^^^^^^^^^^^^^^^^^^^^^^^^^^^^\n",
      "  File \"/Users/victor/Projects/fastai-lesson2/.env/lib/python3.12/site-packages/gradio/blocks.py\", line 1548, in process_api\n",
      "    inputs = self.preprocess_data(fn_index, inputs, state)\n",
      "             ^^^^^^^^^^^^^^^^^^^^^^^^^^^^^^^^^^^^^^^^^^^^^\n",
      "  File \"/Users/victor/Projects/fastai-lesson2/.env/lib/python3.12/site-packages/gradio/blocks.py\", line 1329, in preprocess_data\n",
      "    processed_input.append(block.preprocess(inputs[i]))\n",
      "                           ^^^^^^^^^^^^^^^^^^^^^^^^^^^\n",
      "  File \"/Users/victor/Projects/fastai-lesson2/.env/lib/python3.12/site-packages/gradio/components/image.py\", line 256, in preprocess\n",
      "    assert isinstance(x, str)\n",
      "           ^^^^^^^^^^^^^^^^^^\n",
      "AssertionError\n",
      "Traceback (most recent call last):\n",
      "  File \"/Users/victor/Projects/fastai-lesson2/.env/lib/python3.12/site-packages/gradio/routes.py\", line 534, in predict\n",
      "    output = await route_utils.call_process_api(\n",
      "             ^^^^^^^^^^^^^^^^^^^^^^^^^^^^^^^^^^^\n",
      "  File \"/Users/victor/Projects/fastai-lesson2/.env/lib/python3.12/site-packages/gradio/route_utils.py\", line 226, in call_process_api\n",
      "    output = await app.get_blocks().process_api(\n",
      "             ^^^^^^^^^^^^^^^^^^^^^^^^^^^^^^^^^^^\n",
      "  File \"/Users/victor/Projects/fastai-lesson2/.env/lib/python3.12/site-packages/gradio/blocks.py\", line 1548, in process_api\n",
      "    inputs = self.preprocess_data(fn_index, inputs, state)\n",
      "             ^^^^^^^^^^^^^^^^^^^^^^^^^^^^^^^^^^^^^^^^^^^^^\n",
      "  File \"/Users/victor/Projects/fastai-lesson2/.env/lib/python3.12/site-packages/gradio/blocks.py\", line 1329, in preprocess_data\n",
      "    processed_input.append(block.preprocess(inputs[i]))\n",
      "                           ^^^^^^^^^^^^^^^^^^^^^^^^^^^\n",
      "  File \"/Users/victor/Projects/fastai-lesson2/.env/lib/python3.12/site-packages/gradio/components/image.py\", line 256, in preprocess\n",
      "    assert isinstance(x, str)\n",
      "           ^^^^^^^^^^^^^^^^^^\n",
      "AssertionError\n",
      "Traceback (most recent call last):\n",
      "  File \"/Users/victor/Projects/fastai-lesson2/.env/lib/python3.12/site-packages/gradio/routes.py\", line 534, in predict\n",
      "    output = await route_utils.call_process_api(\n",
      "             ^^^^^^^^^^^^^^^^^^^^^^^^^^^^^^^^^^^\n",
      "  File \"/Users/victor/Projects/fastai-lesson2/.env/lib/python3.12/site-packages/gradio/route_utils.py\", line 226, in call_process_api\n",
      "    output = await app.get_blocks().process_api(\n",
      "             ^^^^^^^^^^^^^^^^^^^^^^^^^^^^^^^^^^^\n",
      "  File \"/Users/victor/Projects/fastai-lesson2/.env/lib/python3.12/site-packages/gradio/blocks.py\", line 1548, in process_api\n",
      "    inputs = self.preprocess_data(fn_index, inputs, state)\n",
      "             ^^^^^^^^^^^^^^^^^^^^^^^^^^^^^^^^^^^^^^^^^^^^^\n",
      "  File \"/Users/victor/Projects/fastai-lesson2/.env/lib/python3.12/site-packages/gradio/blocks.py\", line 1329, in preprocess_data\n",
      "    processed_input.append(block.preprocess(inputs[i]))\n",
      "                           ^^^^^^^^^^^^^^^^^^^^^^^^^^^\n",
      "  File \"/Users/victor/Projects/fastai-lesson2/.env/lib/python3.12/site-packages/gradio/components/image.py\", line 256, in preprocess\n",
      "    assert isinstance(x, str)\n",
      "           ^^^^^^^^^^^^^^^^^^\n",
      "AssertionError\n",
      "Traceback (most recent call last):\n",
      "  File \"/Users/victor/Projects/fastai-lesson2/.env/lib/python3.12/site-packages/gradio/routes.py\", line 534, in predict\n",
      "    output = await route_utils.call_process_api(\n",
      "             ^^^^^^^^^^^^^^^^^^^^^^^^^^^^^^^^^^^\n",
      "  File \"/Users/victor/Projects/fastai-lesson2/.env/lib/python3.12/site-packages/gradio/route_utils.py\", line 226, in call_process_api\n",
      "    output = await app.get_blocks().process_api(\n",
      "             ^^^^^^^^^^^^^^^^^^^^^^^^^^^^^^^^^^^\n",
      "  File \"/Users/victor/Projects/fastai-lesson2/.env/lib/python3.12/site-packages/gradio/blocks.py\", line 1548, in process_api\n",
      "    inputs = self.preprocess_data(fn_index, inputs, state)\n",
      "             ^^^^^^^^^^^^^^^^^^^^^^^^^^^^^^^^^^^^^^^^^^^^^\n",
      "  File \"/Users/victor/Projects/fastai-lesson2/.env/lib/python3.12/site-packages/gradio/blocks.py\", line 1329, in preprocess_data\n",
      "    processed_input.append(block.preprocess(inputs[i]))\n",
      "                           ^^^^^^^^^^^^^^^^^^^^^^^^^^^\n",
      "  File \"/Users/victor/Projects/fastai-lesson2/.env/lib/python3.12/site-packages/gradio/components/image.py\", line 256, in preprocess\n",
      "    assert isinstance(x, str)\n",
      "           ^^^^^^^^^^^^^^^^^^\n",
      "AssertionError\n",
      "Traceback (most recent call last):\n",
      "  File \"/Users/victor/Projects/fastai-lesson2/.env/lib/python3.12/site-packages/gradio/routes.py\", line 534, in predict\n",
      "    output = await route_utils.call_process_api(\n",
      "             ^^^^^^^^^^^^^^^^^^^^^^^^^^^^^^^^^^^\n",
      "  File \"/Users/victor/Projects/fastai-lesson2/.env/lib/python3.12/site-packages/gradio/route_utils.py\", line 226, in call_process_api\n",
      "    output = await app.get_blocks().process_api(\n",
      "             ^^^^^^^^^^^^^^^^^^^^^^^^^^^^^^^^^^^\n",
      "  File \"/Users/victor/Projects/fastai-lesson2/.env/lib/python3.12/site-packages/gradio/blocks.py\", line 1548, in process_api\n",
      "    inputs = self.preprocess_data(fn_index, inputs, state)\n",
      "             ^^^^^^^^^^^^^^^^^^^^^^^^^^^^^^^^^^^^^^^^^^^^^\n",
      "  File \"/Users/victor/Projects/fastai-lesson2/.env/lib/python3.12/site-packages/gradio/blocks.py\", line 1329, in preprocess_data\n",
      "    processed_input.append(block.preprocess(inputs[i]))\n",
      "                           ^^^^^^^^^^^^^^^^^^^^^^^^^^^\n",
      "  File \"/Users/victor/Projects/fastai-lesson2/.env/lib/python3.12/site-packages/gradio/components/image.py\", line 256, in preprocess\n",
      "    assert isinstance(x, str)\n",
      "           ^^^^^^^^^^^^^^^^^^\n",
      "AssertionError\n",
      "Traceback (most recent call last):\n",
      "  File \"/Users/victor/Projects/fastai-lesson2/.env/lib/python3.12/site-packages/gradio/routes.py\", line 534, in predict\n",
      "    output = await route_utils.call_process_api(\n",
      "             ^^^^^^^^^^^^^^^^^^^^^^^^^^^^^^^^^^^\n",
      "  File \"/Users/victor/Projects/fastai-lesson2/.env/lib/python3.12/site-packages/gradio/route_utils.py\", line 226, in call_process_api\n",
      "    output = await app.get_blocks().process_api(\n",
      "             ^^^^^^^^^^^^^^^^^^^^^^^^^^^^^^^^^^^\n",
      "  File \"/Users/victor/Projects/fastai-lesson2/.env/lib/python3.12/site-packages/gradio/blocks.py\", line 1548, in process_api\n",
      "    inputs = self.preprocess_data(fn_index, inputs, state)\n",
      "             ^^^^^^^^^^^^^^^^^^^^^^^^^^^^^^^^^^^^^^^^^^^^^\n",
      "  File \"/Users/victor/Projects/fastai-lesson2/.env/lib/python3.12/site-packages/gradio/blocks.py\", line 1329, in preprocess_data\n",
      "    processed_input.append(block.preprocess(inputs[i]))\n",
      "                           ^^^^^^^^^^^^^^^^^^^^^^^^^^^\n",
      "  File \"/Users/victor/Projects/fastai-lesson2/.env/lib/python3.12/site-packages/gradio/components/image.py\", line 256, in preprocess\n",
      "    assert isinstance(x, str)\n",
      "           ^^^^^^^^^^^^^^^^^^\n",
      "AssertionError\n",
      "Traceback (most recent call last):\n",
      "  File \"/Users/victor/Projects/fastai-lesson2/.env/lib/python3.12/site-packages/gradio/routes.py\", line 534, in predict\n",
      "    output = await route_utils.call_process_api(\n",
      "             ^^^^^^^^^^^^^^^^^^^^^^^^^^^^^^^^^^^\n",
      "  File \"/Users/victor/Projects/fastai-lesson2/.env/lib/python3.12/site-packages/gradio/route_utils.py\", line 226, in call_process_api\n",
      "    output = await app.get_blocks().process_api(\n",
      "             ^^^^^^^^^^^^^^^^^^^^^^^^^^^^^^^^^^^\n",
      "  File \"/Users/victor/Projects/fastai-lesson2/.env/lib/python3.12/site-packages/gradio/blocks.py\", line 1548, in process_api\n",
      "    inputs = self.preprocess_data(fn_index, inputs, state)\n",
      "             ^^^^^^^^^^^^^^^^^^^^^^^^^^^^^^^^^^^^^^^^^^^^^\n",
      "  File \"/Users/victor/Projects/fastai-lesson2/.env/lib/python3.12/site-packages/gradio/blocks.py\", line 1329, in preprocess_data\n",
      "    processed_input.append(block.preprocess(inputs[i]))\n",
      "                           ^^^^^^^^^^^^^^^^^^^^^^^^^^^\n",
      "  File \"/Users/victor/Projects/fastai-lesson2/.env/lib/python3.12/site-packages/gradio/components/image.py\", line 256, in preprocess\n",
      "    assert isinstance(x, str)\n",
      "           ^^^^^^^^^^^^^^^^^^\n",
      "AssertionError\n",
      "Traceback (most recent call last):\n",
      "  File \"/Users/victor/Projects/fastai-lesson2/.env/lib/python3.12/site-packages/gradio/routes.py\", line 534, in predict\n",
      "    output = await route_utils.call_process_api(\n",
      "             ^^^^^^^^^^^^^^^^^^^^^^^^^^^^^^^^^^^\n",
      "  File \"/Users/victor/Projects/fastai-lesson2/.env/lib/python3.12/site-packages/gradio/route_utils.py\", line 226, in call_process_api\n",
      "    output = await app.get_blocks().process_api(\n",
      "             ^^^^^^^^^^^^^^^^^^^^^^^^^^^^^^^^^^^\n",
      "  File \"/Users/victor/Projects/fastai-lesson2/.env/lib/python3.12/site-packages/gradio/blocks.py\", line 1548, in process_api\n",
      "    inputs = self.preprocess_data(fn_index, inputs, state)\n",
      "             ^^^^^^^^^^^^^^^^^^^^^^^^^^^^^^^^^^^^^^^^^^^^^\n",
      "  File \"/Users/victor/Projects/fastai-lesson2/.env/lib/python3.12/site-packages/gradio/blocks.py\", line 1329, in preprocess_data\n",
      "    processed_input.append(block.preprocess(inputs[i]))\n",
      "                           ^^^^^^^^^^^^^^^^^^^^^^^^^^^\n",
      "  File \"/Users/victor/Projects/fastai-lesson2/.env/lib/python3.12/site-packages/gradio/components/image.py\", line 256, in preprocess\n",
      "    assert isinstance(x, str)\n",
      "           ^^^^^^^^^^^^^^^^^^\n",
      "AssertionError\n"
     ]
    },
    {
     "data": {
      "text/html": [
       "\n",
       "<style>\n",
       "    /* Turns off some styling */\n",
       "    progress {\n",
       "        /* gets rid of default border in Firefox and Opera. */\n",
       "        border: none;\n",
       "        /* Needs to be in here for Safari polyfill so background images work as expected. */\n",
       "        background-size: auto;\n",
       "    }\n",
       "    progress:not([value]), progress:not([value])::-webkit-progress-bar {\n",
       "        background: repeating-linear-gradient(45deg, #7e7e7e, #7e7e7e 10px, #5c5c5c 10px, #5c5c5c 20px);\n",
       "    }\n",
       "    .progress-bar-interrupted, .progress-bar-interrupted::-webkit-progress-bar {\n",
       "        background: #F44336;\n",
       "    }\n",
       "</style>\n"
      ],
      "text/plain": [
       "<IPython.core.display.HTML object>"
      ]
     },
     "metadata": {},
     "output_type": "display_data"
    },
    {
     "data": {
      "text/html": [],
      "text/plain": [
       "<IPython.core.display.HTML object>"
      ]
     },
     "metadata": {},
     "output_type": "display_data"
    },
    {
     "name": "stderr",
     "output_type": "stream",
     "text": [
      "Traceback (most recent call last):\n",
      "  File \"/Users/victor/Projects/fastai-lesson2/.env/lib/python3.12/site-packages/gradio/routes.py\", line 534, in predict\n",
      "    output = await route_utils.call_process_api(\n",
      "             ^^^^^^^^^^^^^^^^^^^^^^^^^^^^^^^^^^^\n",
      "  File \"/Users/victor/Projects/fastai-lesson2/.env/lib/python3.12/site-packages/gradio/route_utils.py\", line 226, in call_process_api\n",
      "    output = await app.get_blocks().process_api(\n",
      "             ^^^^^^^^^^^^^^^^^^^^^^^^^^^^^^^^^^^\n",
      "  File \"/Users/victor/Projects/fastai-lesson2/.env/lib/python3.12/site-packages/gradio/blocks.py\", line 1548, in process_api\n",
      "    inputs = self.preprocess_data(fn_index, inputs, state)\n",
      "             ^^^^^^^^^^^^^^^^^^^^^^^^^^^^^^^^^^^^^^^^^^^^^\n",
      "  File \"/Users/victor/Projects/fastai-lesson2/.env/lib/python3.12/site-packages/gradio/blocks.py\", line 1329, in preprocess_data\n",
      "    processed_input.append(block.preprocess(inputs[i]))\n",
      "                           ^^^^^^^^^^^^^^^^^^^^^^^^^^^\n",
      "  File \"/Users/victor/Projects/fastai-lesson2/.env/lib/python3.12/site-packages/gradio/components/image.py\", line 256, in preprocess\n",
      "    assert isinstance(x, str)\n",
      "           ^^^^^^^^^^^^^^^^^^\n",
      "AssertionError\n",
      "Traceback (most recent call last):\n",
      "  File \"/Users/victor/Projects/fastai-lesson2/.env/lib/python3.12/site-packages/gradio/routes.py\", line 534, in predict\n",
      "    output = await route_utils.call_process_api(\n",
      "             ^^^^^^^^^^^^^^^^^^^^^^^^^^^^^^^^^^^\n",
      "  File \"/Users/victor/Projects/fastai-lesson2/.env/lib/python3.12/site-packages/gradio/route_utils.py\", line 226, in call_process_api\n",
      "    output = await app.get_blocks().process_api(\n",
      "             ^^^^^^^^^^^^^^^^^^^^^^^^^^^^^^^^^^^\n",
      "  File \"/Users/victor/Projects/fastai-lesson2/.env/lib/python3.12/site-packages/gradio/blocks.py\", line 1548, in process_api\n",
      "    inputs = self.preprocess_data(fn_index, inputs, state)\n",
      "             ^^^^^^^^^^^^^^^^^^^^^^^^^^^^^^^^^^^^^^^^^^^^^\n",
      "  File \"/Users/victor/Projects/fastai-lesson2/.env/lib/python3.12/site-packages/gradio/blocks.py\", line 1329, in preprocess_data\n",
      "    processed_input.append(block.preprocess(inputs[i]))\n",
      "                           ^^^^^^^^^^^^^^^^^^^^^^^^^^^\n",
      "  File \"/Users/victor/Projects/fastai-lesson2/.env/lib/python3.12/site-packages/gradio/components/image.py\", line 256, in preprocess\n",
      "    assert isinstance(x, str)\n",
      "           ^^^^^^^^^^^^^^^^^^\n",
      "AssertionError\n",
      "Traceback (most recent call last):\n",
      "  File \"/Users/victor/Projects/fastai-lesson2/.env/lib/python3.12/site-packages/gradio/routes.py\", line 534, in predict\n",
      "    output = await route_utils.call_process_api(\n",
      "             ^^^^^^^^^^^^^^^^^^^^^^^^^^^^^^^^^^^\n",
      "  File \"/Users/victor/Projects/fastai-lesson2/.env/lib/python3.12/site-packages/gradio/route_utils.py\", line 226, in call_process_api\n",
      "    output = await app.get_blocks().process_api(\n",
      "             ^^^^^^^^^^^^^^^^^^^^^^^^^^^^^^^^^^^\n",
      "  File \"/Users/victor/Projects/fastai-lesson2/.env/lib/python3.12/site-packages/gradio/blocks.py\", line 1548, in process_api\n",
      "    inputs = self.preprocess_data(fn_index, inputs, state)\n",
      "             ^^^^^^^^^^^^^^^^^^^^^^^^^^^^^^^^^^^^^^^^^^^^^\n",
      "  File \"/Users/victor/Projects/fastai-lesson2/.env/lib/python3.12/site-packages/gradio/blocks.py\", line 1329, in preprocess_data\n",
      "    processed_input.append(block.preprocess(inputs[i]))\n",
      "                           ^^^^^^^^^^^^^^^^^^^^^^^^^^^\n",
      "  File \"/Users/victor/Projects/fastai-lesson2/.env/lib/python3.12/site-packages/gradio/components/image.py\", line 256, in preprocess\n",
      "    assert isinstance(x, str)\n",
      "           ^^^^^^^^^^^^^^^^^^\n",
      "AssertionError\n",
      "Traceback (most recent call last):\n",
      "  File \"/Users/victor/Projects/fastai-lesson2/.env/lib/python3.12/site-packages/gradio/routes.py\", line 534, in predict\n",
      "    output = await route_utils.call_process_api(\n",
      "             ^^^^^^^^^^^^^^^^^^^^^^^^^^^^^^^^^^^\n",
      "  File \"/Users/victor/Projects/fastai-lesson2/.env/lib/python3.12/site-packages/gradio/route_utils.py\", line 226, in call_process_api\n",
      "    output = await app.get_blocks().process_api(\n",
      "             ^^^^^^^^^^^^^^^^^^^^^^^^^^^^^^^^^^^\n",
      "  File \"/Users/victor/Projects/fastai-lesson2/.env/lib/python3.12/site-packages/gradio/blocks.py\", line 1548, in process_api\n",
      "    inputs = self.preprocess_data(fn_index, inputs, state)\n",
      "             ^^^^^^^^^^^^^^^^^^^^^^^^^^^^^^^^^^^^^^^^^^^^^\n",
      "  File \"/Users/victor/Projects/fastai-lesson2/.env/lib/python3.12/site-packages/gradio/blocks.py\", line 1329, in preprocess_data\n",
      "    processed_input.append(block.preprocess(inputs[i]))\n",
      "                           ^^^^^^^^^^^^^^^^^^^^^^^^^^^\n",
      "  File \"/Users/victor/Projects/fastai-lesson2/.env/lib/python3.12/site-packages/gradio/components/image.py\", line 256, in preprocess\n",
      "    assert isinstance(x, str)\n",
      "           ^^^^^^^^^^^^^^^^^^\n",
      "AssertionError\n",
      "Traceback (most recent call last):\n",
      "  File \"/Users/victor/Projects/fastai-lesson2/.env/lib/python3.12/site-packages/gradio/routes.py\", line 534, in predict\n",
      "    output = await route_utils.call_process_api(\n",
      "             ^^^^^^^^^^^^^^^^^^^^^^^^^^^^^^^^^^^\n",
      "  File \"/Users/victor/Projects/fastai-lesson2/.env/lib/python3.12/site-packages/gradio/route_utils.py\", line 226, in call_process_api\n",
      "    output = await app.get_blocks().process_api(\n",
      "             ^^^^^^^^^^^^^^^^^^^^^^^^^^^^^^^^^^^\n",
      "  File \"/Users/victor/Projects/fastai-lesson2/.env/lib/python3.12/site-packages/gradio/blocks.py\", line 1548, in process_api\n",
      "    inputs = self.preprocess_data(fn_index, inputs, state)\n",
      "             ^^^^^^^^^^^^^^^^^^^^^^^^^^^^^^^^^^^^^^^^^^^^^\n",
      "  File \"/Users/victor/Projects/fastai-lesson2/.env/lib/python3.12/site-packages/gradio/blocks.py\", line 1329, in preprocess_data\n",
      "    processed_input.append(block.preprocess(inputs[i]))\n",
      "                           ^^^^^^^^^^^^^^^^^^^^^^^^^^^\n",
      "  File \"/Users/victor/Projects/fastai-lesson2/.env/lib/python3.12/site-packages/gradio/components/image.py\", line 256, in preprocess\n",
      "    assert isinstance(x, str)\n",
      "           ^^^^^^^^^^^^^^^^^^\n",
      "AssertionError\n"
     ]
    }
   ],
   "source": [
    "%pip install -Uqq gradio==3.50.0\n",
    "import gradio as gr\n",
    "gr.Interface(fn=predict, inputs=gr.inputs.Image(shape=(512, 512)), outputs=gr.outputs.Label(num_top_classes=3)).launch(share=True)"
   ]
  },
  {
   "cell_type": "code",
   "execution_count": null,
   "metadata": {},
   "outputs": [],
   "source": []
  }
 ],
 "metadata": {
  "kernelspec": {
   "display_name": ".env",
   "language": "python",
   "name": "python3"
  },
  "language_info": {
   "codemirror_mode": {
    "name": "ipython",
    "version": 3
   },
   "file_extension": ".py",
   "mimetype": "text/x-python",
   "name": "python",
   "nbconvert_exporter": "python",
   "pygments_lexer": "ipython3",
   "version": "3.12.11"
  }
 },
 "nbformat": 4,
 "nbformat_minor": 2
}
